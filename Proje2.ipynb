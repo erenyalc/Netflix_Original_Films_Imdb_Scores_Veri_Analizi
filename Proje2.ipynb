{
  "cells": [
    {
      "cell_type": "code",
      "execution_count": null,
      "metadata": {
        "id": "NC7AMmToTBb9"
      },
      "outputs": [],
      "source": [
        "import pandas as pd\n",
        "import numpy as np\n",
        "import seaborn as sns\n",
        "import matplotlib.pyplot as plt\n",
        "# Kullanacağımız kütüphaneleri projeye dahil(import) ettik."
      ]
    },
    {
      "cell_type": "code",
      "execution_count": null,
      "metadata": {
        "colab": {
          "base_uri": "https://localhost:8080/",
          "height": 424
        },
        "id": "IpPeYGT5TTSR",
        "outputId": "58fce2de-0e73-4342-9bf7-cae9d118965b"
      },
      "outputs": [
        {
          "data": {
            "text/html": [
              "<div>\n",
              "<style scoped>\n",
              "    .dataframe tbody tr th:only-of-type {\n",
              "        vertical-align: middle;\n",
              "    }\n",
              "\n",
              "    .dataframe tbody tr th {\n",
              "        vertical-align: top;\n",
              "    }\n",
              "\n",
              "    .dataframe thead th {\n",
              "        text-align: right;\n",
              "    }\n",
              "</style>\n",
              "<table border=\"1\" class=\"dataframe\">\n",
              "  <thead>\n",
              "    <tr style=\"text-align: right;\">\n",
              "      <th></th>\n",
              "      <th>Title</th>\n",
              "      <th>Genre</th>\n",
              "      <th>Premiere</th>\n",
              "      <th>Runtime</th>\n",
              "      <th>IMDB Score</th>\n",
              "      <th>Language</th>\n",
              "    </tr>\n",
              "  </thead>\n",
              "  <tbody>\n",
              "    <tr>\n",
              "      <th>0</th>\n",
              "      <td>Enter the Anime</td>\n",
              "      <td>Documentary</td>\n",
              "      <td>August 5, 2019</td>\n",
              "      <td>58</td>\n",
              "      <td>2.5</td>\n",
              "      <td>English/Japanese</td>\n",
              "    </tr>\n",
              "    <tr>\n",
              "      <th>1</th>\n",
              "      <td>Dark Forces</td>\n",
              "      <td>Thriller</td>\n",
              "      <td>August 21, 2020</td>\n",
              "      <td>81</td>\n",
              "      <td>2.6</td>\n",
              "      <td>Spanish</td>\n",
              "    </tr>\n",
              "    <tr>\n",
              "      <th>2</th>\n",
              "      <td>The App</td>\n",
              "      <td>Science fiction/Drama</td>\n",
              "      <td>December 26, 2019</td>\n",
              "      <td>79</td>\n",
              "      <td>2.6</td>\n",
              "      <td>Italian</td>\n",
              "    </tr>\n",
              "    <tr>\n",
              "      <th>3</th>\n",
              "      <td>The Open House</td>\n",
              "      <td>Horror thriller</td>\n",
              "      <td>January 19, 2018</td>\n",
              "      <td>94</td>\n",
              "      <td>3.2</td>\n",
              "      <td>English</td>\n",
              "    </tr>\n",
              "    <tr>\n",
              "      <th>4</th>\n",
              "      <td>Kaali Khuhi</td>\n",
              "      <td>Mystery</td>\n",
              "      <td>October 30, 2020</td>\n",
              "      <td>90</td>\n",
              "      <td>3.4</td>\n",
              "      <td>Hindi</td>\n",
              "    </tr>\n",
              "    <tr>\n",
              "      <th>...</th>\n",
              "      <td>...</td>\n",
              "      <td>...</td>\n",
              "      <td>...</td>\n",
              "      <td>...</td>\n",
              "      <td>...</td>\n",
              "      <td>...</td>\n",
              "    </tr>\n",
              "    <tr>\n",
              "      <th>579</th>\n",
              "      <td>Taylor Swift: Reputation Stadium Tour</td>\n",
              "      <td>Concert Film</td>\n",
              "      <td>December 31, 2018</td>\n",
              "      <td>125</td>\n",
              "      <td>8.4</td>\n",
              "      <td>English</td>\n",
              "    </tr>\n",
              "    <tr>\n",
              "      <th>580</th>\n",
              "      <td>Winter on Fire: Ukraine's Fight for Freedom</td>\n",
              "      <td>Documentary</td>\n",
              "      <td>October 9, 2015</td>\n",
              "      <td>91</td>\n",
              "      <td>8.4</td>\n",
              "      <td>English/Ukranian/Russian</td>\n",
              "    </tr>\n",
              "    <tr>\n",
              "      <th>581</th>\n",
              "      <td>Springsteen on Broadway</td>\n",
              "      <td>One-man show</td>\n",
              "      <td>December 16, 2018</td>\n",
              "      <td>153</td>\n",
              "      <td>8.5</td>\n",
              "      <td>English</td>\n",
              "    </tr>\n",
              "    <tr>\n",
              "      <th>582</th>\n",
              "      <td>Emicida: AmarElo - It's All For Yesterday</td>\n",
              "      <td>Documentary</td>\n",
              "      <td>December 8, 2020</td>\n",
              "      <td>89</td>\n",
              "      <td>8.6</td>\n",
              "      <td>Portuguese</td>\n",
              "    </tr>\n",
              "    <tr>\n",
              "      <th>583</th>\n",
              "      <td>David Attenborough: A Life on Our Planet</td>\n",
              "      <td>Documentary</td>\n",
              "      <td>October 4, 2020</td>\n",
              "      <td>83</td>\n",
              "      <td>9.0</td>\n",
              "      <td>English</td>\n",
              "    </tr>\n",
              "  </tbody>\n",
              "</table>\n",
              "<p>584 rows × 6 columns</p>\n",
              "</div>"
            ],
            "text/plain": [
              "                                           Title                  Genre  \\\n",
              "0                                Enter the Anime            Documentary   \n",
              "1                                    Dark Forces               Thriller   \n",
              "2                                        The App  Science fiction/Drama   \n",
              "3                                 The Open House        Horror thriller   \n",
              "4                                    Kaali Khuhi                Mystery   \n",
              "..                                           ...                    ...   \n",
              "579        Taylor Swift: Reputation Stadium Tour           Concert Film   \n",
              "580  Winter on Fire: Ukraine's Fight for Freedom            Documentary   \n",
              "581                      Springsteen on Broadway           One-man show   \n",
              "582    Emicida: AmarElo - It's All For Yesterday            Documentary   \n",
              "583     David Attenborough: A Life on Our Planet            Documentary   \n",
              "\n",
              "              Premiere  Runtime  IMDB Score                  Language  \n",
              "0       August 5, 2019       58         2.5          English/Japanese  \n",
              "1      August 21, 2020       81         2.6                   Spanish  \n",
              "2    December 26, 2019       79         2.6                   Italian  \n",
              "3     January 19, 2018       94         3.2                   English  \n",
              "4     October 30, 2020       90         3.4                     Hindi  \n",
              "..                 ...      ...         ...                       ...  \n",
              "579  December 31, 2018      125         8.4                   English  \n",
              "580    October 9, 2015       91         8.4  English/Ukranian/Russian  \n",
              "581  December 16, 2018      153         8.5                   English  \n",
              "582   December 8, 2020       89         8.6                Portuguese  \n",
              "583    October 4, 2020       83         9.0                   English  \n",
              "\n",
              "[584 rows x 6 columns]"
            ]
          },
          "execution_count": 84,
          "metadata": {},
          "output_type": "execute_result"
        }
      ],
      "source": [
        "netflix = pd.read_csv(\"NetflixOriginals.csv\", encoding=\"ISO-8859-1\")\n",
        "df = netflix.copy()\n",
        "df\n",
        "# Bu kısımda veri setini projeye dahil ettik ve gerekli formata dönüştürme işlemlerini yaptık.\n",
        "# Veri setinin bir kopyasını alarak olası problemlere karşı orijinal veri setini korumaya çalıştık."
      ]
    },
    {
      "cell_type": "code",
      "execution_count": null,
      "metadata": {
        "colab": {
          "base_uri": "https://localhost:8080/",
          "height": 363
        },
        "id": "2Pg9xn7qTzm0",
        "outputId": "bf315dcb-a335-44c9-f889-f819ec4d29eb"
      },
      "outputs": [
        {
          "data": {
            "text/html": [
              "<div>\n",
              "<style scoped>\n",
              "    .dataframe tbody tr th:only-of-type {\n",
              "        vertical-align: middle;\n",
              "    }\n",
              "\n",
              "    .dataframe tbody tr th {\n",
              "        vertical-align: top;\n",
              "    }\n",
              "\n",
              "    .dataframe thead th {\n",
              "        text-align: right;\n",
              "    }\n",
              "</style>\n",
              "<table border=\"1\" class=\"dataframe\">\n",
              "  <thead>\n",
              "    <tr style=\"text-align: right;\">\n",
              "      <th></th>\n",
              "      <th>Title</th>\n",
              "      <th>Genre</th>\n",
              "      <th>Premiere</th>\n",
              "      <th>Runtime</th>\n",
              "      <th>IMDB Score</th>\n",
              "      <th>Language</th>\n",
              "    </tr>\n",
              "  </thead>\n",
              "  <tbody>\n",
              "    <tr>\n",
              "      <th>0</th>\n",
              "      <td>Enter the Anime</td>\n",
              "      <td>Documentary</td>\n",
              "      <td>August 5, 2019</td>\n",
              "      <td>58</td>\n",
              "      <td>2.5</td>\n",
              "      <td>English/Japanese</td>\n",
              "    </tr>\n",
              "    <tr>\n",
              "      <th>1</th>\n",
              "      <td>Dark Forces</td>\n",
              "      <td>Thriller</td>\n",
              "      <td>August 21, 2020</td>\n",
              "      <td>81</td>\n",
              "      <td>2.6</td>\n",
              "      <td>Spanish</td>\n",
              "    </tr>\n",
              "    <tr>\n",
              "      <th>2</th>\n",
              "      <td>The App</td>\n",
              "      <td>Science fiction/Drama</td>\n",
              "      <td>December 26, 2019</td>\n",
              "      <td>79</td>\n",
              "      <td>2.6</td>\n",
              "      <td>Italian</td>\n",
              "    </tr>\n",
              "    <tr>\n",
              "      <th>3</th>\n",
              "      <td>The Open House</td>\n",
              "      <td>Horror thriller</td>\n",
              "      <td>January 19, 2018</td>\n",
              "      <td>94</td>\n",
              "      <td>3.2</td>\n",
              "      <td>English</td>\n",
              "    </tr>\n",
              "    <tr>\n",
              "      <th>4</th>\n",
              "      <td>Kaali Khuhi</td>\n",
              "      <td>Mystery</td>\n",
              "      <td>October 30, 2020</td>\n",
              "      <td>90</td>\n",
              "      <td>3.4</td>\n",
              "      <td>Hindi</td>\n",
              "    </tr>\n",
              "    <tr>\n",
              "      <th>5</th>\n",
              "      <td>Drive</td>\n",
              "      <td>Action</td>\n",
              "      <td>November 1, 2019</td>\n",
              "      <td>147</td>\n",
              "      <td>3.5</td>\n",
              "      <td>Hindi</td>\n",
              "    </tr>\n",
              "    <tr>\n",
              "      <th>6</th>\n",
              "      <td>Leyla Everlasting</td>\n",
              "      <td>Comedy</td>\n",
              "      <td>December 4, 2020</td>\n",
              "      <td>112</td>\n",
              "      <td>3.7</td>\n",
              "      <td>Turkish</td>\n",
              "    </tr>\n",
              "    <tr>\n",
              "      <th>7</th>\n",
              "      <td>The Last Days of American Crime</td>\n",
              "      <td>Heist film/Thriller</td>\n",
              "      <td>June 5, 2020</td>\n",
              "      <td>149</td>\n",
              "      <td>3.7</td>\n",
              "      <td>English</td>\n",
              "    </tr>\n",
              "    <tr>\n",
              "      <th>8</th>\n",
              "      <td>Paradox</td>\n",
              "      <td>Musical/Western/Fantasy</td>\n",
              "      <td>March 23, 2018</td>\n",
              "      <td>73</td>\n",
              "      <td>3.9</td>\n",
              "      <td>English</td>\n",
              "    </tr>\n",
              "    <tr>\n",
              "      <th>9</th>\n",
              "      <td>Sardar Ka Grandson</td>\n",
              "      <td>Comedy</td>\n",
              "      <td>May 18, 2021</td>\n",
              "      <td>139</td>\n",
              "      <td>4.1</td>\n",
              "      <td>Hindi</td>\n",
              "    </tr>\n",
              "  </tbody>\n",
              "</table>\n",
              "</div>"
            ],
            "text/plain": [
              "                             Title                    Genre  \\\n",
              "0                  Enter the Anime              Documentary   \n",
              "1                      Dark Forces                 Thriller   \n",
              "2                          The App    Science fiction/Drama   \n",
              "3                   The Open House          Horror thriller   \n",
              "4                      Kaali Khuhi                  Mystery   \n",
              "5                            Drive                   Action   \n",
              "6                Leyla Everlasting                   Comedy   \n",
              "7  The Last Days of American Crime      Heist film/Thriller   \n",
              "8                          Paradox  Musical/Western/Fantasy   \n",
              "9               Sardar Ka Grandson                   Comedy   \n",
              "\n",
              "            Premiere  Runtime  IMDB Score          Language  \n",
              "0     August 5, 2019       58         2.5  English/Japanese  \n",
              "1    August 21, 2020       81         2.6           Spanish  \n",
              "2  December 26, 2019       79         2.6           Italian  \n",
              "3   January 19, 2018       94         3.2           English  \n",
              "4   October 30, 2020       90         3.4             Hindi  \n",
              "5   November 1, 2019      147         3.5             Hindi  \n",
              "6   December 4, 2020      112         3.7           Turkish  \n",
              "7       June 5, 2020      149         3.7           English  \n",
              "8     March 23, 2018       73         3.9           English  \n",
              "9       May 18, 2021      139         4.1             Hindi  "
            ]
          },
          "execution_count": 85,
          "metadata": {},
          "output_type": "execute_result"
        }
      ],
      "source": [
        "df.head(10)\n",
        "# Veri setine ilk bakış."
      ]
    },
    {
      "cell_type": "code",
      "execution_count": null,
      "metadata": {
        "colab": {
          "base_uri": "https://localhost:8080/"
        },
        "id": "WEpWBl3YWgB3",
        "outputId": "4fcb31ee-3ad3-40a7-98cf-959623500f48"
      },
      "outputs": [
        {
          "name": "stdout",
          "output_type": "stream",
          "text": [
            "<class 'pandas.core.frame.DataFrame'>\n",
            "RangeIndex: 584 entries, 0 to 583\n",
            "Data columns (total 6 columns):\n",
            " #   Column      Non-Null Count  Dtype  \n",
            "---  ------      --------------  -----  \n",
            " 0   Title       584 non-null    object \n",
            " 1   Genre       584 non-null    object \n",
            " 2   Premiere    584 non-null    object \n",
            " 3   Runtime     584 non-null    int64  \n",
            " 4   IMDB Score  584 non-null    float64\n",
            " 5   Language    584 non-null    object \n",
            "dtypes: float64(1), int64(1), object(4)\n",
            "memory usage: 27.5+ KB\n"
          ]
        }
      ],
      "source": [
        "df.info()\n",
        "# Veri setindeki gözlemleri, değişkenleri ve değişken türlerini inceleyerek veri setini tanımaya çalıştık."
      ]
    },
    {
      "cell_type": "code",
      "execution_count": null,
      "metadata": {
        "colab": {
          "base_uri": "https://localhost:8080/"
        },
        "id": "C2T6W5x9WjD0",
        "outputId": "916e0360-5c9e-43c4-d524-cd0794e69819"
      },
      "outputs": [
        {
          "data": {
            "text/plain": [
              "(584, 6)"
            ]
          },
          "execution_count": 56,
          "metadata": {},
          "output_type": "execute_result"
        }
      ],
      "source": [
        "df.shape\n",
        "# Veri setindeki değişken ve gözlem sayılarını bulduk."
      ]
    },
    {
      "cell_type": "code",
      "execution_count": null,
      "metadata": {
        "colab": {
          "base_uri": "https://localhost:8080/",
          "height": 112
        },
        "id": "HiCLngZVWnDT",
        "outputId": "c993f560-c030-46c4-a74f-d3f97af2e7a7"
      },
      "outputs": [
        {
          "data": {
            "text/html": [
              "<div>\n",
              "<style scoped>\n",
              "    .dataframe tbody tr th:only-of-type {\n",
              "        vertical-align: middle;\n",
              "    }\n",
              "\n",
              "    .dataframe tbody tr th {\n",
              "        vertical-align: top;\n",
              "    }\n",
              "\n",
              "    .dataframe thead th {\n",
              "        text-align: right;\n",
              "    }\n",
              "</style>\n",
              "<table border=\"1\" class=\"dataframe\">\n",
              "  <thead>\n",
              "    <tr style=\"text-align: right;\">\n",
              "      <th></th>\n",
              "      <th>count</th>\n",
              "      <th>mean</th>\n",
              "      <th>std</th>\n",
              "      <th>min</th>\n",
              "      <th>25%</th>\n",
              "      <th>50%</th>\n",
              "      <th>75%</th>\n",
              "      <th>max</th>\n",
              "    </tr>\n",
              "  </thead>\n",
              "  <tbody>\n",
              "    <tr>\n",
              "      <th>Runtime</th>\n",
              "      <td>584.0</td>\n",
              "      <td>93.577055</td>\n",
              "      <td>27.761683</td>\n",
              "      <td>4.0</td>\n",
              "      <td>86.0</td>\n",
              "      <td>97.00</td>\n",
              "      <td>108.0</td>\n",
              "      <td>209.0</td>\n",
              "    </tr>\n",
              "    <tr>\n",
              "      <th>IMDB Score</th>\n",
              "      <td>584.0</td>\n",
              "      <td>6.271747</td>\n",
              "      <td>0.979256</td>\n",
              "      <td>2.5</td>\n",
              "      <td>5.7</td>\n",
              "      <td>6.35</td>\n",
              "      <td>7.0</td>\n",
              "      <td>9.0</td>\n",
              "    </tr>\n",
              "  </tbody>\n",
              "</table>\n",
              "</div>"
            ],
            "text/plain": [
              "            count       mean        std  min   25%    50%    75%    max\n",
              "Runtime     584.0  93.577055  27.761683  4.0  86.0  97.00  108.0  209.0\n",
              "IMDB Score  584.0   6.271747   0.979256  2.5   5.7   6.35    7.0    9.0"
            ]
          },
          "execution_count": 86,
          "metadata": {},
          "output_type": "execute_result"
        }
      ],
      "source": [
        "df.describe().T\n",
        "# Veri setindeki numerik değişkenlerin istatistiksel değerlerini gözlemledik."
      ]
    },
    {
      "cell_type": "markdown",
      "metadata": {
        "id": "dT-SNlhgH9C9"
      },
      "source": [
        "Veri setine göre uzun soluklu filmler hangi dilde oluşturulmuştur? Görselleştirme yapınız.\n"
      ]
    },
    {
      "cell_type": "code",
      "execution_count": null,
      "metadata": {
        "colab": {
          "base_uri": "https://localhost:8080/",
          "height": 265
        },
        "id": "xzBHNpgNI2Q2",
        "outputId": "02ecb6ba-f791-4b12-acc4-8279a81eebaf"
      },
      "outputs": [
        {
          "data": {
            "image/png": "[encoded data removed]",
            "text/plain": [
              "<Figure size 432x288 with 1 Axes>"
            ]
          },
          "metadata": {
            "needs_background": "light"
          },
          "output_type": "display_data"
        }
      ],
      "source": [
        "df[\"Language\"][(df[\"Runtime\"] > 108)].value_counts().plot.barh();\n",
        "# Runtime değeri %75'den büyük olan filmleri (Q3 Kartili ve sonrası) uzun soluklu olarak kabul ettik ve gerekli görselleştirmeyi yaptık."
      ]
    },
    {
      "cell_type": "markdown",
      "metadata": {
        "id": "RKVTCI_yJlSI"
      },
      "source": [
        "2019 Ocak ile 2020 Haziran tarihleri arasında 'Documentary' türünde çekilmiş filmlerin IMDB değerlerini bulup görselleştiriniz."
      ]
    },
    {
      "cell_type": "code",
      "execution_count": null,
      "metadata": {
        "id": "4P16iq_eZSa6",
        "outputId": "212faf29-52f2-48cb-c7ff-75805d871336"
      },
      "outputs": [
        {
          "data": {
            "text/html": [
              "<div>\n",
              "<style scoped>\n",
              "    .dataframe tbody tr th:only-of-type {\n",
              "        vertical-align: middle;\n",
              "    }\n",
              "\n",
              "    .dataframe tbody tr th {\n",
              "        vertical-align: top;\n",
              "    }\n",
              "\n",
              "    .dataframe thead th {\n",
              "        text-align: right;\n",
              "    }\n",
              "</style>\n",
              "<table border=\"1\" class=\"dataframe\">\n",
              "  <thead>\n",
              "    <tr style=\"text-align: right;\">\n",
              "      <th></th>\n",
              "      <th>Title</th>\n",
              "      <th>Genre</th>\n",
              "      <th>Premiere</th>\n",
              "      <th>Runtime</th>\n",
              "      <th>IMDB Score</th>\n",
              "      <th>Language</th>\n",
              "    </tr>\n",
              "  </thead>\n",
              "  <tbody>\n",
              "    <tr>\n",
              "      <th>0</th>\n",
              "      <td>Enter the Anime</td>\n",
              "      <td>Documentary</td>\n",
              "      <td>2019-08-05</td>\n",
              "      <td>58</td>\n",
              "      <td>2.5</td>\n",
              "      <td>English/Japanese</td>\n",
              "    </tr>\n",
              "    <tr>\n",
              "      <th>1</th>\n",
              "      <td>Dark Forces</td>\n",
              "      <td>Thriller</td>\n",
              "      <td>2020-08-21</td>\n",
              "      <td>81</td>\n",
              "      <td>2.6</td>\n",
              "      <td>Spanish</td>\n",
              "    </tr>\n",
              "    <tr>\n",
              "      <th>2</th>\n",
              "      <td>The App</td>\n",
              "      <td>Science fiction/Drama</td>\n",
              "      <td>2019-12-26</td>\n",
              "      <td>79</td>\n",
              "      <td>2.6</td>\n",
              "      <td>Italian</td>\n",
              "    </tr>\n",
              "    <tr>\n",
              "      <th>3</th>\n",
              "      <td>The Open House</td>\n",
              "      <td>Horror thriller</td>\n",
              "      <td>2018-01-19</td>\n",
              "      <td>94</td>\n",
              "      <td>3.2</td>\n",
              "      <td>English</td>\n",
              "    </tr>\n",
              "    <tr>\n",
              "      <th>4</th>\n",
              "      <td>Kaali Khuhi</td>\n",
              "      <td>Mystery</td>\n",
              "      <td>2020-10-30</td>\n",
              "      <td>90</td>\n",
              "      <td>3.4</td>\n",
              "      <td>Hindi</td>\n",
              "    </tr>\n",
              "    <tr>\n",
              "      <th>...</th>\n",
              "      <td>...</td>\n",
              "      <td>...</td>\n",
              "      <td>...</td>\n",
              "      <td>...</td>\n",
              "      <td>...</td>\n",
              "      <td>...</td>\n",
              "    </tr>\n",
              "    <tr>\n",
              "      <th>579</th>\n",
              "      <td>Taylor Swift: Reputation Stadium Tour</td>\n",
              "      <td>Concert Film</td>\n",
              "      <td>2018-12-31</td>\n",
              "      <td>125</td>\n",
              "      <td>8.4</td>\n",
              "      <td>English</td>\n",
              "    </tr>\n",
              "    <tr>\n",
              "      <th>580</th>\n",
              "      <td>Winter on Fire: Ukraine's Fight for Freedom</td>\n",
              "      <td>Documentary</td>\n",
              "      <td>2015-10-09</td>\n",
              "      <td>91</td>\n",
              "      <td>8.4</td>\n",
              "      <td>English/Ukranian/Russian</td>\n",
              "    </tr>\n",
              "    <tr>\n",
              "      <th>581</th>\n",
              "      <td>Springsteen on Broadway</td>\n",
              "      <td>One-man show</td>\n",
              "      <td>2018-12-16</td>\n",
              "      <td>153</td>\n",
              "      <td>8.5</td>\n",
              "      <td>English</td>\n",
              "    </tr>\n",
              "    <tr>\n",
              "      <th>582</th>\n",
              "      <td>Emicida: AmarElo - It's All For Yesterday</td>\n",
              "      <td>Documentary</td>\n",
              "      <td>2020-12-08</td>\n",
              "      <td>89</td>\n",
              "      <td>8.6</td>\n",
              "      <td>Portuguese</td>\n",
              "    </tr>\n",
              "    <tr>\n",
              "      <th>583</th>\n",
              "      <td>David Attenborough: A Life on Our Planet</td>\n",
              "      <td>Documentary</td>\n",
              "      <td>2020-10-04</td>\n",
              "      <td>83</td>\n",
              "      <td>9.0</td>\n",
              "      <td>English</td>\n",
              "    </tr>\n",
              "  </tbody>\n",
              "</table>\n",
              "<p>584 rows × 6 columns</p>\n",
              "</div>"
            ],
            "text/plain": [
              "                                           Title                  Genre  \\\n",
              "0                                Enter the Anime            Documentary   \n",
              "1                                    Dark Forces               Thriller   \n",
              "2                                        The App  Science fiction/Drama   \n",
              "3                                 The Open House        Horror thriller   \n",
              "4                                    Kaali Khuhi                Mystery   \n",
              "..                                           ...                    ...   \n",
              "579        Taylor Swift: Reputation Stadium Tour           Concert Film   \n",
              "580  Winter on Fire: Ukraine's Fight for Freedom            Documentary   \n",
              "581                      Springsteen on Broadway           One-man show   \n",
              "582    Emicida: AmarElo - It's All For Yesterday            Documentary   \n",
              "583     David Attenborough: A Life on Our Planet            Documentary   \n",
              "\n",
              "      Premiere  Runtime  IMDB Score                  Language  \n",
              "0   2019-08-05       58         2.5          English/Japanese  \n",
              "1   2020-08-21       81         2.6                   Spanish  \n",
              "2   2019-12-26       79         2.6                   Italian  \n",
              "3   2018-01-19       94         3.2                   English  \n",
              "4   2020-10-30       90         3.4                     Hindi  \n",
              "..         ...      ...         ...                       ...  \n",
              "579 2018-12-31      125         8.4                   English  \n",
              "580 2015-10-09       91         8.4  English/Ukranian/Russian  \n",
              "581 2018-12-16      153         8.5                   English  \n",
              "582 2020-12-08       89         8.6                Portuguese  \n",
              "583 2020-10-04       83         9.0                   English  \n",
              "\n",
              "[584 rows x 6 columns]"
            ]
          },
          "execution_count": 88,
          "metadata": {},
          "output_type": "execute_result"
        }
      ],
      "source": [
        "df['Premiere'] =  pd.to_datetime(df['Premiere'])\n",
        "df\n",
        "# Object türünde olan veri tipini datetime olarak değiştirdik."
      ]
    },
    {
      "cell_type": "code",
      "execution_count": null,
      "metadata": {
        "id": "l46lD-7sIfRN",
        "outputId": "38a403b7-3e8f-47d4-97fc-3087c403ed43"
      },
      "outputs": [
        {
          "data": {
            "image/png": "[encoded data removed]",
            "text/plain": [
              "<Figure size 1600x480 with 1 Axes>"
            ]
          },
          "metadata": {
            "needs_background": "light"
          },
          "output_type": "display_data"
        }
      ],
      "source": [
        "dff= (df['Premiere'] > '2019-01-01') & (df['Premiere'] <= '2020-06-30')\n",
        "df3=df.loc[dff]\n",
        "df3[df3['Genre'] == 'Documentary']\n",
        "plt.figure(figsize=(20, 6), dpi=80)\n",
        "sns.scatterplot(x = 'Premiere',y = 'IMDB Score',data = df3);\n",
        "# Scatterplot ile verilerimizi görselleştirdik."
      ]
    },
    {
      "cell_type": "markdown",
      "metadata": {
        "id": "HfFtM3zLJ42S"
      },
      "source": [
        "İngilizce çekilen filmler içerisinde hangi tür en yüksek IMDB puanına sahiptir?"
      ]
    },
    {
      "cell_type": "code",
      "execution_count": null,
      "metadata": {
        "colab": {
          "base_uri": "https://localhost:8080/",
          "height": 424
        },
        "id": "KbO_gXsLI2RA",
        "outputId": "2535abbd-128f-4ad6-9fe5-bf58758721d1"
      },
      "outputs": [
        {
          "data": {
            "text/html": [
              "<div>\n",
              "<style scoped>\n",
              "    .dataframe tbody tr th:only-of-type {\n",
              "        vertical-align: middle;\n",
              "    }\n",
              "\n",
              "    .dataframe tbody tr th {\n",
              "        vertical-align: top;\n",
              "    }\n",
              "\n",
              "    .dataframe thead th {\n",
              "        text-align: right;\n",
              "    }\n",
              "</style>\n",
              "<table border=\"1\" class=\"dataframe\">\n",
              "  <thead>\n",
              "    <tr style=\"text-align: right;\">\n",
              "      <th></th>\n",
              "      <th>Title</th>\n",
              "      <th>Genre</th>\n",
              "      <th>Premiere</th>\n",
              "      <th>Runtime</th>\n",
              "      <th>IMDB Score</th>\n",
              "      <th>Language</th>\n",
              "    </tr>\n",
              "  </thead>\n",
              "  <tbody>\n",
              "    <tr>\n",
              "      <th>3</th>\n",
              "      <td>The Open House</td>\n",
              "      <td>Horror thriller</td>\n",
              "      <td>2018-01-19</td>\n",
              "      <td>94</td>\n",
              "      <td>3.2</td>\n",
              "      <td>English</td>\n",
              "    </tr>\n",
              "    <tr>\n",
              "      <th>7</th>\n",
              "      <td>The Last Days of American Crime</td>\n",
              "      <td>Heist film/Thriller</td>\n",
              "      <td>2020-06-05</td>\n",
              "      <td>149</td>\n",
              "      <td>3.7</td>\n",
              "      <td>English</td>\n",
              "    </tr>\n",
              "    <tr>\n",
              "      <th>8</th>\n",
              "      <td>Paradox</td>\n",
              "      <td>Musical/Western/Fantasy</td>\n",
              "      <td>2018-03-23</td>\n",
              "      <td>73</td>\n",
              "      <td>3.9</td>\n",
              "      <td>English</td>\n",
              "    </tr>\n",
              "    <tr>\n",
              "      <th>10</th>\n",
              "      <td>Searching for Sheela</td>\n",
              "      <td>Documentary</td>\n",
              "      <td>2021-04-22</td>\n",
              "      <td>58</td>\n",
              "      <td>4.1</td>\n",
              "      <td>English</td>\n",
              "    </tr>\n",
              "    <tr>\n",
              "      <th>14</th>\n",
              "      <td>Mercy</td>\n",
              "      <td>Thriller</td>\n",
              "      <td>2016-11-22</td>\n",
              "      <td>90</td>\n",
              "      <td>4.2</td>\n",
              "      <td>English</td>\n",
              "    </tr>\n",
              "    <tr>\n",
              "      <th>...</th>\n",
              "      <td>...</td>\n",
              "      <td>...</td>\n",
              "      <td>...</td>\n",
              "      <td>...</td>\n",
              "      <td>...</td>\n",
              "      <td>...</td>\n",
              "    </tr>\n",
              "    <tr>\n",
              "      <th>577</th>\n",
              "      <td>Dancing with the Birds</td>\n",
              "      <td>Documentary</td>\n",
              "      <td>2019-10-23</td>\n",
              "      <td>51</td>\n",
              "      <td>8.3</td>\n",
              "      <td>English</td>\n",
              "    </tr>\n",
              "    <tr>\n",
              "      <th>578</th>\n",
              "      <td>Ben Platt: Live from Radio City Music Hall</td>\n",
              "      <td>Concert Film</td>\n",
              "      <td>2020-05-20</td>\n",
              "      <td>85</td>\n",
              "      <td>8.4</td>\n",
              "      <td>English</td>\n",
              "    </tr>\n",
              "    <tr>\n",
              "      <th>579</th>\n",
              "      <td>Taylor Swift: Reputation Stadium Tour</td>\n",
              "      <td>Concert Film</td>\n",
              "      <td>2018-12-31</td>\n",
              "      <td>125</td>\n",
              "      <td>8.4</td>\n",
              "      <td>English</td>\n",
              "    </tr>\n",
              "    <tr>\n",
              "      <th>581</th>\n",
              "      <td>Springsteen on Broadway</td>\n",
              "      <td>One-man show</td>\n",
              "      <td>2018-12-16</td>\n",
              "      <td>153</td>\n",
              "      <td>8.5</td>\n",
              "      <td>English</td>\n",
              "    </tr>\n",
              "    <tr>\n",
              "      <th>583</th>\n",
              "      <td>David Attenborough: A Life on Our Planet</td>\n",
              "      <td>Documentary</td>\n",
              "      <td>2020-10-04</td>\n",
              "      <td>83</td>\n",
              "      <td>9.0</td>\n",
              "      <td>English</td>\n",
              "    </tr>\n",
              "  </tbody>\n",
              "</table>\n",
              "<p>401 rows × 6 columns</p>\n",
              "</div>"
            ],
            "text/plain": [
              "                                          Title                    Genre  \\\n",
              "3                                The Open House          Horror thriller   \n",
              "7               The Last Days of American Crime      Heist film/Thriller   \n",
              "8                                       Paradox  Musical/Western/Fantasy   \n",
              "10                         Searching for Sheela              Documentary   \n",
              "14                                        Mercy                 Thriller   \n",
              "..                                          ...                      ...   \n",
              "577                      Dancing with the Birds              Documentary   \n",
              "578  Ben Platt: Live from Radio City Music Hall             Concert Film   \n",
              "579       Taylor Swift: Reputation Stadium Tour             Concert Film   \n",
              "581                     Springsteen on Broadway             One-man show   \n",
              "583    David Attenborough: A Life on Our Planet              Documentary   \n",
              "\n",
              "      Premiere  Runtime  IMDB Score Language  \n",
              "3   2018-01-19       94         3.2  English  \n",
              "7   2020-06-05      149         3.7  English  \n",
              "8   2018-03-23       73         3.9  English  \n",
              "10  2021-04-22       58         4.1  English  \n",
              "14  2016-11-22       90         4.2  English  \n",
              "..         ...      ...         ...      ...  \n",
              "577 2019-10-23       51         8.3  English  \n",
              "578 2020-05-20       85         8.4  English  \n",
              "579 2018-12-31      125         8.4  English  \n",
              "581 2018-12-16      153         8.5  English  \n",
              "583 2020-10-04       83         9.0  English  \n",
              "\n",
              "[401 rows x 6 columns]"
            ]
          },
          "execution_count": 89,
          "metadata": {},
          "output_type": "execute_result"
        }
      ],
      "source": [
        "df[(df[\"Language\"] == \"English\") & (df[\"Genre\"]) & ([df[\"IMDB Score\"].max()])]"
      ]
    },
    {
      "cell_type": "code",
      "execution_count": null,
      "metadata": {
        "colab": {
          "base_uri": "https://localhost:8080/"
        },
        "id": "T-o22OprNBNx",
        "outputId": "50d56a05-1b4b-4545-9b60-b701025b13fe"
      },
      "outputs": [
        {
          "data": {
            "text/plain": [
              "583    Documentary\n",
              "Name: Genre, dtype: object"
            ]
          },
          "execution_count": 90,
          "metadata": {},
          "output_type": "execute_result"
        }
      ],
      "source": [
        "df[\"Genre\"][(df[\"Language\"]==\"English\")&(df[\"IMDB Score\"] == df[\"IMDB Score\"].max())]"
      ]
    },
    {
      "cell_type": "markdown",
      "metadata": {
        "id": "cPNiYM-VP9JM"
      },
      "source": [
        "'Hindi' Dilinde çekilmiş olan filmlerin ortalama 'runtime' suresi nedir?\n"
      ]
    },
    {
      "cell_type": "code",
      "execution_count": null,
      "metadata": {
        "colab": {
          "base_uri": "https://localhost:8080/"
        },
        "id": "la-20CLCPwmF",
        "outputId": "2b46e636-3643-4f53-ed5d-64f319104388"
      },
      "outputs": [
        {
          "data": {
            "text/plain": [
              "122.07692307692308"
            ]
          },
          "execution_count": 92,
          "metadata": {},
          "output_type": "execute_result"
        }
      ],
      "source": [
        "df[(df[\"Language\"] == \"Hindi\")&(df[\"Runtime\"])][\"Runtime\"].mean()"
      ]
    },
    {
      "cell_type": "markdown",
      "metadata": {
        "id": "U3wukz19Rmbi"
      },
      "source": [
        "'Genre' Sütunu kaç kategoriye sahiptir ve bu kategoriler nelerdir? Görselleştirerek ifade ediniz.\n"
      ]
    },
    {
      "cell_type": "code",
      "execution_count": null,
      "metadata": {
        "colab": {
          "base_uri": "https://localhost:8080/",
          "height": 547
        },
        "id": "HM3Lf5h6QSlf",
        "outputId": "6e5b00e4-141c-49a2-cefd-0159f6c948c3"
      },
      "outputs": [
        {
          "data": {
            "image/png": "[encoded data removed]",
            "text/plain": [
              "<Figure size 1600x480 with 1 Axes>"
            ]
          },
          "metadata": {
            "needs_background": "light"
          },
          "output_type": "display_data"
        }
      ],
      "source": [
        "plt.figure(figsize=(20, 6), dpi=80)\n",
        "df[\"Genre\"].value_counts().plot.bar();"
      ]
    },
    {
      "cell_type": "markdown",
      "metadata": {
        "id": "PdnhbtijS8Wg"
      },
      "source": [
        "Veri setinde bulunan filmlerde en çok kullanılan 3 dili bulunuz.\n"
      ]
    },
    {
      "cell_type": "code",
      "execution_count": null,
      "metadata": {
        "colab": {
          "base_uri": "https://localhost:8080/"
        },
        "id": "bLm_WyKGRpIM",
        "outputId": "abd8ec86-3483-4d2e-9b3b-a1070a145366"
      },
      "outputs": [
        {
          "data": {
            "text/plain": [
              "English    401\n",
              "Hindi       33\n",
              "Spanish     31\n",
              "Name: Language, dtype: int64"
            ]
          },
          "execution_count": 94,
          "metadata": {},
          "output_type": "execute_result"
        }
      ],
      "source": [
        "df[\"Language\"].value_counts().nlargest(3)"
      ]
    },
    {
      "cell_type": "markdown",
      "metadata": {
        "id": "5tii5Px7TcvU"
      },
      "source": [
        "IMDB puanı en yüksek olan ilk 10 film hangileridir?"
      ]
    },
    {
      "cell_type": "code",
      "execution_count": null,
      "metadata": {
        "colab": {
          "base_uri": "https://localhost:8080/",
          "height": 363
        },
        "id": "_HxWtgByS_oX",
        "outputId": "015dc728-d48a-4c29-8970-76076ac20077"
      },
      "outputs": [
        {
          "data": {
            "text/html": [
              "<div>\n",
              "<style scoped>\n",
              "    .dataframe tbody tr th:only-of-type {\n",
              "        vertical-align: middle;\n",
              "    }\n",
              "\n",
              "    .dataframe tbody tr th {\n",
              "        vertical-align: top;\n",
              "    }\n",
              "\n",
              "    .dataframe thead th {\n",
              "        text-align: right;\n",
              "    }\n",
              "</style>\n",
              "<table border=\"1\" class=\"dataframe\">\n",
              "  <thead>\n",
              "    <tr style=\"text-align: right;\">\n",
              "      <th></th>\n",
              "      <th>Title</th>\n",
              "      <th>Genre</th>\n",
              "      <th>Premiere</th>\n",
              "      <th>Runtime</th>\n",
              "      <th>IMDB Score</th>\n",
              "      <th>Language</th>\n",
              "    </tr>\n",
              "  </thead>\n",
              "  <tbody>\n",
              "    <tr>\n",
              "      <th>583</th>\n",
              "      <td>David Attenborough: A Life on Our Planet</td>\n",
              "      <td>Documentary</td>\n",
              "      <td>2020-10-04</td>\n",
              "      <td>83</td>\n",
              "      <td>9.0</td>\n",
              "      <td>English</td>\n",
              "    </tr>\n",
              "    <tr>\n",
              "      <th>582</th>\n",
              "      <td>Emicida: AmarElo - It's All For Yesterday</td>\n",
              "      <td>Documentary</td>\n",
              "      <td>2020-12-08</td>\n",
              "      <td>89</td>\n",
              "      <td>8.6</td>\n",
              "      <td>Portuguese</td>\n",
              "    </tr>\n",
              "    <tr>\n",
              "      <th>581</th>\n",
              "      <td>Springsteen on Broadway</td>\n",
              "      <td>One-man show</td>\n",
              "      <td>2018-12-16</td>\n",
              "      <td>153</td>\n",
              "      <td>8.5</td>\n",
              "      <td>English</td>\n",
              "    </tr>\n",
              "    <tr>\n",
              "      <th>578</th>\n",
              "      <td>Ben Platt: Live from Radio City Music Hall</td>\n",
              "      <td>Concert Film</td>\n",
              "      <td>2020-05-20</td>\n",
              "      <td>85</td>\n",
              "      <td>8.4</td>\n",
              "      <td>English</td>\n",
              "    </tr>\n",
              "    <tr>\n",
              "      <th>579</th>\n",
              "      <td>Taylor Swift: Reputation Stadium Tour</td>\n",
              "      <td>Concert Film</td>\n",
              "      <td>2018-12-31</td>\n",
              "      <td>125</td>\n",
              "      <td>8.4</td>\n",
              "      <td>English</td>\n",
              "    </tr>\n",
              "    <tr>\n",
              "      <th>580</th>\n",
              "      <td>Winter on Fire: Ukraine's Fight for Freedom</td>\n",
              "      <td>Documentary</td>\n",
              "      <td>2015-10-09</td>\n",
              "      <td>91</td>\n",
              "      <td>8.4</td>\n",
              "      <td>English/Ukranian/Russian</td>\n",
              "    </tr>\n",
              "    <tr>\n",
              "      <th>576</th>\n",
              "      <td>Cuba and the Cameraman</td>\n",
              "      <td>Documentary</td>\n",
              "      <td>2017-11-24</td>\n",
              "      <td>114</td>\n",
              "      <td>8.3</td>\n",
              "      <td>English</td>\n",
              "    </tr>\n",
              "    <tr>\n",
              "      <th>577</th>\n",
              "      <td>Dancing with the Birds</td>\n",
              "      <td>Documentary</td>\n",
              "      <td>2019-10-23</td>\n",
              "      <td>51</td>\n",
              "      <td>8.3</td>\n",
              "      <td>English</td>\n",
              "    </tr>\n",
              "    <tr>\n",
              "      <th>571</th>\n",
              "      <td>13th</td>\n",
              "      <td>Documentary</td>\n",
              "      <td>2016-10-07</td>\n",
              "      <td>100</td>\n",
              "      <td>8.2</td>\n",
              "      <td>English</td>\n",
              "    </tr>\n",
              "    <tr>\n",
              "      <th>572</th>\n",
              "      <td>Disclosure: Trans Lives on Screen</td>\n",
              "      <td>Documentary</td>\n",
              "      <td>2020-06-19</td>\n",
              "      <td>107</td>\n",
              "      <td>8.2</td>\n",
              "      <td>English</td>\n",
              "    </tr>\n",
              "  </tbody>\n",
              "</table>\n",
              "</div>"
            ],
            "text/plain": [
              "                                           Title         Genre   Premiere  \\\n",
              "583     David Attenborough: A Life on Our Planet   Documentary 2020-10-04   \n",
              "582    Emicida: AmarElo - It's All For Yesterday   Documentary 2020-12-08   \n",
              "581                      Springsteen on Broadway  One-man show 2018-12-16   \n",
              "578   Ben Platt: Live from Radio City Music Hall  Concert Film 2020-05-20   \n",
              "579        Taylor Swift: Reputation Stadium Tour  Concert Film 2018-12-31   \n",
              "580  Winter on Fire: Ukraine's Fight for Freedom   Documentary 2015-10-09   \n",
              "576                      Cuba and the Cameraman    Documentary 2017-11-24   \n",
              "577                       Dancing with the Birds   Documentary 2019-10-23   \n",
              "571                                         13th   Documentary 2016-10-07   \n",
              "572            Disclosure: Trans Lives on Screen   Documentary 2020-06-19   \n",
              "\n",
              "     Runtime  IMDB Score                  Language  \n",
              "583       83         9.0                   English  \n",
              "582       89         8.6                Portuguese  \n",
              "581      153         8.5                   English  \n",
              "578       85         8.4                   English  \n",
              "579      125         8.4                   English  \n",
              "580       91         8.4  English/Ukranian/Russian  \n",
              "576      114         8.3                   English  \n",
              "577       51         8.3                   English  \n",
              "571      100         8.2                   English  \n",
              "572      107         8.2                   English  "
            ]
          },
          "execution_count": 95,
          "metadata": {},
          "output_type": "execute_result"
        }
      ],
      "source": [
        "df.nlargest(n=10, columns=['IMDB Score'])"
      ]
    },
    {
      "cell_type": "markdown",
      "metadata": {
        "id": "y1-vqiMvUPff"
      },
      "source": [
        "IMDB puanı ile 'Runtime' arasında nasıl bir korelasyon vardır? İnceleyip görselleştiriniz.\n"
      ]
    },
    {
      "cell_type": "code",
      "execution_count": null,
      "metadata": {
        "colab": {
          "base_uri": "https://localhost:8080/",
          "height": 269
        },
        "id": "OOEoJ-ygTphP",
        "outputId": "163b3546-c80c-4c8b-a98d-51a98dcf7f89"
      },
      "outputs": [
        {
          "data": {
            "image/png": "[encoded data removed]",
            "text/plain": [
              "<Figure size 1600x480 with 2 Axes>"
            ]
          },
          "metadata": {
            "needs_background": "light"
          },
          "output_type": "display_data"
        }
      ],
      "source": [
        "core = df.corr()\n",
        "plt.figure(figsize=(20, 6), dpi=80)\n",
        "sns.heatmap(core,annot = True);\n",
        "# IMDB puanı ve Runtime arasında herhangi bir korelasyonun olmadığını gördük. Ortaya çıkan korelasyon değeri 0'a yakın olduğundan herhangi bir korelasyondan bahsedilemez."
      ]
    },
    {
      "cell_type": "markdown",
      "metadata": {
        "id": "k7s8USp0Uu25"
      },
      "source": [
        "IMDB Puanı en yüksek olan ilk 10 'Genre' hangileridir? Görselleştiriniz.\n"
      ]
    },
    {
      "cell_type": "code",
      "execution_count": null,
      "metadata": {
        "colab": {
          "base_uri": "https://localhost:8080/"
        },
        "id": "luH6QEwdUWNy",
        "outputId": "cc2fd4c4-6631-48d5-a490-4b7c62114f6c"
      },
      "outputs": [
        {
          "data": {
            "text/plain": [
              "583     Documentary\n",
              "582     Documentary\n",
              "581    One-man show\n",
              "578    Concert Film\n",
              "579    Concert Film\n",
              "580     Documentary\n",
              "576     Documentary\n",
              "577     Documentary\n",
              "571     Documentary\n",
              "572     Documentary\n",
              "Name: Genre, dtype: object"
            ]
          },
          "execution_count": 97,
          "metadata": {},
          "output_type": "execute_result"
        }
      ],
      "source": [
        "te= df.groupby(['Genre'])['IMDB Score'].sum()\n",
        "te.sort_values(ascending = False)[0:10]"
      ]
    },
    {
      "cell_type": "markdown",
      "metadata": {
        "id": "a2gNEd2cU8H-"
      },
      "source": [
        "'Runtime' değeri en yüksek olan ilk 10 film hangileridir? Görselleştiriniz.\n"
      ]
    },
    {
      "cell_type": "code",
      "execution_count": null,
      "metadata": {
        "colab": {
          "base_uri": "https://localhost:8080/",
          "height": 363
        },
        "id": "h_WG8AM6U2jX",
        "outputId": "0b0c1927-c290-437f-ea62-9fd6e9600c49"
      },
      "outputs": [
        {
          "data": {
            "text/html": [
              "<div>\n",
              "<style scoped>\n",
              "    .dataframe tbody tr th:only-of-type {\n",
              "        vertical-align: middle;\n",
              "    }\n",
              "\n",
              "    .dataframe tbody tr th {\n",
              "        vertical-align: top;\n",
              "    }\n",
              "\n",
              "    .dataframe thead th {\n",
              "        text-align: right;\n",
              "    }\n",
              "</style>\n",
              "<table border=\"1\" class=\"dataframe\">\n",
              "  <thead>\n",
              "    <tr style=\"text-align: right;\">\n",
              "      <th></th>\n",
              "      <th>Title</th>\n",
              "      <th>Genre</th>\n",
              "      <th>Premiere</th>\n",
              "      <th>Runtime</th>\n",
              "      <th>IMDB Score</th>\n",
              "      <th>Language</th>\n",
              "    </tr>\n",
              "  </thead>\n",
              "  <tbody>\n",
              "    <tr>\n",
              "      <th>561</th>\n",
              "      <td>The Irishman</td>\n",
              "      <td>Crime drama</td>\n",
              "      <td>2019-11-27</td>\n",
              "      <td>209</td>\n",
              "      <td>7.8</td>\n",
              "      <td>English</td>\n",
              "    </tr>\n",
              "    <tr>\n",
              "      <th>328</th>\n",
              "      <td>Da 5 Bloods</td>\n",
              "      <td>War drama</td>\n",
              "      <td>2020-06-12</td>\n",
              "      <td>155</td>\n",
              "      <td>6.5</td>\n",
              "      <td>English</td>\n",
              "    </tr>\n",
              "    <tr>\n",
              "      <th>581</th>\n",
              "      <td>Springsteen on Broadway</td>\n",
              "      <td>One-man show</td>\n",
              "      <td>2018-12-16</td>\n",
              "      <td>153</td>\n",
              "      <td>8.5</td>\n",
              "      <td>English</td>\n",
              "    </tr>\n",
              "    <tr>\n",
              "      <th>247</th>\n",
              "      <td>Citation</td>\n",
              "      <td>Drama</td>\n",
              "      <td>2020-11-06</td>\n",
              "      <td>151</td>\n",
              "      <td>6.2</td>\n",
              "      <td>English</td>\n",
              "    </tr>\n",
              "    <tr>\n",
              "      <th>284</th>\n",
              "      <td>The Forest of Love</td>\n",
              "      <td>Drama</td>\n",
              "      <td>2019-10-11</td>\n",
              "      <td>151</td>\n",
              "      <td>6.3</td>\n",
              "      <td>Japanese</td>\n",
              "    </tr>\n",
              "    <tr>\n",
              "      <th>7</th>\n",
              "      <td>The Last Days of American Crime</td>\n",
              "      <td>Heist film/Thriller</td>\n",
              "      <td>2020-06-05</td>\n",
              "      <td>149</td>\n",
              "      <td>3.7</td>\n",
              "      <td>English</td>\n",
              "    </tr>\n",
              "    <tr>\n",
              "      <th>509</th>\n",
              "      <td>Raat Akeli Hai</td>\n",
              "      <td>Thriller</td>\n",
              "      <td>2020-07-31</td>\n",
              "      <td>149</td>\n",
              "      <td>7.3</td>\n",
              "      <td>Hindi</td>\n",
              "    </tr>\n",
              "    <tr>\n",
              "      <th>543</th>\n",
              "      <td>Ludo</td>\n",
              "      <td>Anthology/Dark comedy</td>\n",
              "      <td>2020-11-12</td>\n",
              "      <td>149</td>\n",
              "      <td>7.6</td>\n",
              "      <td>Hindi</td>\n",
              "    </tr>\n",
              "    <tr>\n",
              "      <th>194</th>\n",
              "      <td>Army of the Dead</td>\n",
              "      <td>Zombie/Heist</td>\n",
              "      <td>2021-05-21</td>\n",
              "      <td>148</td>\n",
              "      <td>5.9</td>\n",
              "      <td>English</td>\n",
              "    </tr>\n",
              "    <tr>\n",
              "      <th>5</th>\n",
              "      <td>Drive</td>\n",
              "      <td>Action</td>\n",
              "      <td>2019-11-01</td>\n",
              "      <td>147</td>\n",
              "      <td>3.5</td>\n",
              "      <td>Hindi</td>\n",
              "    </tr>\n",
              "  </tbody>\n",
              "</table>\n",
              "</div>"
            ],
            "text/plain": [
              "                               Title                  Genre   Premiere  \\\n",
              "561                     The Irishman            Crime drama 2019-11-27   \n",
              "328                      Da 5 Bloods              War drama 2020-06-12   \n",
              "581          Springsteen on Broadway           One-man show 2018-12-16   \n",
              "247                         Citation                  Drama 2020-11-06   \n",
              "284               The Forest of Love                  Drama 2019-10-11   \n",
              "7    The Last Days of American Crime    Heist film/Thriller 2020-06-05   \n",
              "509                   Raat Akeli Hai               Thriller 2020-07-31   \n",
              "543                             Ludo  Anthology/Dark comedy 2020-11-12   \n",
              "194                 Army of the Dead           Zombie/Heist 2021-05-21   \n",
              "5                              Drive                 Action 2019-11-01   \n",
              "\n",
              "     Runtime  IMDB Score  Language  \n",
              "561      209         7.8   English  \n",
              "328      155         6.5   English  \n",
              "581      153         8.5   English  \n",
              "247      151         6.2   English  \n",
              "284      151         6.3  Japanese  \n",
              "7        149         3.7   English  \n",
              "509      149         7.3     Hindi  \n",
              "543      149         7.6     Hindi  \n",
              "194      148         5.9   English  \n",
              "5        147         3.5     Hindi  "
            ]
          },
          "execution_count": 98,
          "metadata": {},
          "output_type": "execute_result"
        }
      ],
      "source": [
        "df.nlargest(n=10, columns=['Runtime'])"
      ]
    },
    {
      "cell_type": "markdown",
      "metadata": {
        "id": "I7KoU6XOVJkz"
      },
      "source": [
        "Hangi yılda en fazla film yayımlanmıştır? Görselleştiriniz.\n"
      ]
    },
    {
      "cell_type": "code",
      "execution_count": null,
      "metadata": {
        "id": "5TlRPDukZSbH",
        "outputId": "162df690-0f49-42ff-efc0-18a019d0ea38"
      },
      "outputs": [
        {
          "name": "stdout",
          "output_type": "stream",
          "text": [
            "<class 'pandas.core.frame.DataFrame'>\n",
            "RangeIndex: 584 entries, 0 to 583\n",
            "Data columns (total 6 columns):\n",
            " #   Column      Non-Null Count  Dtype         \n",
            "---  ------      --------------  -----         \n",
            " 0   Title       584 non-null    object        \n",
            " 1   Genre       584 non-null    object        \n",
            " 2   Premiere    584 non-null    datetime64[ns]\n",
            " 3   Runtime     584 non-null    int64         \n",
            " 4   IMDB Score  584 non-null    float64       \n",
            " 5   Language    584 non-null    object        \n",
            "dtypes: datetime64[ns](1), float64(1), int64(1), object(3)\n",
            "memory usage: 27.5+ KB\n"
          ]
        }
      ],
      "source": [
        "df.info()"
      ]
    },
    {
      "cell_type": "code",
      "execution_count": null,
      "metadata": {
        "id": "XYox6EzEZSbI",
        "outputId": "856e9709-e11e-4a27-fe40-a28a22e1e301"
      },
      "outputs": [
        {
          "data": {
            "text/plain": [
              "Text(0.5, 1.0, 'Years with Counts')"
            ]
          },
          "execution_count": 101,
          "metadata": {},
          "output_type": "execute_result"
        },
        {
          "data": {
            "image/png": "[encoded data removed]",
            "text/plain": [
              "<Figure size 432x288 with 1 Axes>"
            ]
          },
          "metadata": {
            "needs_background": "light"
          },
          "output_type": "display_data"
        }
      ],
      "source": [
        "fig , ax = plt.subplots()\n",
        "\n",
        "year2021 = df.query('(Premiere < \"2022-01-01\" ) & (Premiere > \"2021-01-01\" )')\n",
        "year2021 = year2021['Premiere'].value_counts().sum()\n",
        "\n",
        "year2020 = df.query('(Premiere < \"2021-01-01\" ) & (Premiere > \"2020-01-01\" )')\n",
        "year2020 = year2020['Premiere'].value_counts().sum()\n",
        "\n",
        "year2019 = df.query('(Premiere < \"2020-01-01\" ) & (Premiere > \"2019-01-01\" )')\n",
        "year2019 = year2019['Premiere'].value_counts().sum()\n",
        "\n",
        "year2018 = df.query('(Premiere < \"2019-01-01\" ) & (Premiere > \"2018-01-01\" )')\n",
        "year2018 = year2018['Premiere'].value_counts().sum()\n",
        "\n",
        "year2017 = df.query('(Premiere < \"2018-01-01\") & (Premiere > \"2017-01-01\")')\n",
        "year2017 = year2017['Premiere'].value_counts().sum()\n",
        "\n",
        "year2016 = df.query('(Premiere < \"2017-01-01\") & (Premiere > \"2016-01-01\")')\n",
        "year2016 = year2016['Premiere'].value_counts().sum()\n",
        "\n",
        "year2015 = df.query('(Premiere < \"2016-01-01\") & (Premiere > \"2015-01-01\")')\n",
        "year2015 = year2015['Premiere'].value_counts().sum()\n",
        "\n",
        "year2014 = df.query('(Premiere < \"2015-01-01\") & (Premiere > \"2014-01-01\")')\n",
        "year2014 = year2014['Premiere'].value_counts().sum()\n",
        "\n",
        "\n",
        "#numbers =[year2021,year2020,year2019,year2018,year2017,year2016,year2015,year2014]\n",
        "#years = [2021,2020,2019,2018,2017,2016,2015,2014]\n",
        "\n",
        "ax.bar([2021,2020,2019,2018,2017,2016,2015,2014], [year2021,year2020,year2019,year2018,year2017,year2016,year2015,year2014])\n",
        "ax.set_title(\"Years with Counts\")"
      ]
    },
    {
      "cell_type": "markdown",
      "metadata": {
        "id": "DAwS3GRNZSbJ"
      },
      "source": [
        "Hangi dilde yayımlanan filmler en düşük ortalama IMBD puanına sahiptir? Görselleştiriniz.\n"
      ]
    },
    {
      "cell_type": "code",
      "execution_count": null,
      "metadata": {
        "id": "gohRblOkDFcW",
        "outputId": "3ee1a24b-200c-4ad1-e6fb-7fe401ebee96"
      },
      "outputs": [
        {
          "name": "stdout",
          "output_type": "stream",
          "text": [
            "Language\n",
            "Malay    4.2\n",
            "Name: IMDB Score, dtype: float64\n"
          ]
        },
        {
          "data": {
            "image/png": "[encoded data removed]",
            "text/plain": [
              "<Figure size 432x288 with 1 Axes>"
            ]
          },
          "metadata": {
            "needs_background": "light"
          },
          "output_type": "display_data"
        }
      ],
      "source": [
        "low_language_imdb = df.groupby(['Language'])['IMDB Score'].mean().nsmallest(5)\n",
        "low_language_imdb1 = df.groupby(['Language'])['IMDB Score'].mean().nsmallest(1)\n",
        "print(low_language_imdb1)\n",
        "low_language_imdb.plot.barh();"
      ]
    },
    {
      "cell_type": "markdown",
      "metadata": {
        "id": "yk8Ma0e4ZSbK"
      },
      "source": [
        "Hangi yılın toplam \"runtime\" süresi en fazladır?"
      ]
    },
    {
      "cell_type": "code",
      "execution_count": null,
      "metadata": {
        "id": "SLcsUVJnZSbL",
        "outputId": "96cbecf7-8680-4076-f959-5f82794169f8"
      },
      "outputs": [
        {
          "data": {
            "text/plain": [
              "Text(0.5, 1.0, 'Years with Runtimes')"
            ]
          },
          "execution_count": 145,
          "metadata": {},
          "output_type": "execute_result"
        },
        {
          "data": {
            "image/png": "[encoded data removed]",
            "text/plain": [
              "<Figure size 432x288 with 1 Axes>"
            ]
          },
          "metadata": {
            "needs_background": "light"
          },
          "output_type": "display_data"
        }
      ],
      "source": [
        "fig , ax = plt.subplots()\n",
        "\n",
        "year2021 = df.query('(Premiere < \"2022-01-01\" ) & (Premiere > \"2021-01-01\" )')\n",
        "year2021 = year2021['Runtime'].sum()\n",
        "\n",
        "year2020 = df.query('(Premiere < \"2021-01-01\" ) & (Premiere > \"2020-01-01\" )')\n",
        "year2020 = year2020['Runtime'].sum()\n",
        "\n",
        "year2019 = df.query('(Premiere < \"2020-01-01\" ) & (Premiere > \"2019-01-01\" )')\n",
        "year2019 = year2019['Runtime'].sum()\n",
        "\n",
        "year2018 = df.query('(Premiere < \"2019-01-01\" ) & (Premiere > \"2018-01-01\" )')\n",
        "year2018 = year2018['Runtime'].sum()\n",
        "\n",
        "year2017 = df.query('(Premiere < \"2018-01-01\") & (Premiere > \"2017-01-01\")')\n",
        "year2017 = year2017['Runtime'].sum()\n",
        "\n",
        "year2016 = df.query('(Premiere < \"2017-01-01\") & (Premiere > \"2016-01-01\")')\n",
        "year2016 = year2016['Runtime'].sum()\n",
        "\n",
        "year2015 = df.query('(Premiere < \"2016-01-01\") & (Premiere > \"2015-01-01\")')\n",
        "year2015 = year2015['Runtime'].sum()\n",
        "\n",
        "year2014 = df.query('(Premiere < \"2015-01-01\") & (Premiere > \"2014-01-01\")')\n",
        "year2014 = year2014['Runtime'].sum()\n",
        "\n",
        "ax.bar([2021,2020,2019,2018,2017,2016,2015,2014], [year2021,year2020,year2019,year2018,year2017,year2016,year2015,year2014])\n",
        "ax.set_title(\"Years with Runtimes\")"
      ]
    },
    {
      "cell_type": "markdown",
      "metadata": {
        "id": "fQ9pPsCLZSbM"
      },
      "source": [
        "Her bir dilin en fazla kullanıldığı \"Genre\" nedir?"
      ]
    },
    {
      "cell_type": "code",
      "execution_count": null,
      "metadata": {
        "id": "XJ2t5I0pZSbM",
        "outputId": "bc9c3623-1623-4b5c-95e2-038d7c19ec86"
      },
      "outputs": [
        {
          "data": {
            "text/plain": [
              "Language      Genre          \n",
              "Bengali       Documentary          1\n",
              "Dutch         Crime drama          1\n",
              "              Fantasy              1\n",
              "              Romantic comedy      1\n",
              "English       Documentary        120\n",
              "                                ... \n",
              "Thai          Horror               1\n",
              "Thia/English  Documentary          1\n",
              "Turkish       Comedy               2\n",
              "              Drama                2\n",
              "              Romance              1\n",
              "Name: Genre, Length: 204, dtype: int64"
            ]
          },
          "execution_count": 149,
          "metadata": {},
          "output_type": "execute_result"
        }
      ],
      "source": [
        "df.groupby(['Language'])['Genre'].value_counts()"
      ]
    },
    {
      "cell_type": "markdown",
      "metadata": {
        "id": "g6M2V2feZSbN"
      },
      "source": [
        "Veri setinde outlier veri var mıdır? Açıklayınız."
      ]
    },
    {
      "cell_type": "code",
      "execution_count": null,
      "metadata": {
        "id": "6XiliABCZSbN",
        "outputId": "17a836b1-5501-494a-bf6f-97a58fd0943b"
      },
      "outputs": [
        {
          "data": {
            "image/png": "[encoded data removed]",
            "text/plain": [
              "<Figure size 1600x480 with 1 Axes>"
            ]
          },
          "metadata": {
            "needs_background": "light"
          },
          "output_type": "display_data"
        }
      ],
      "source": [
        "plt.figure(figsize=(20, 6), dpi=80)\n",
        "sns.boxplot(x = \"Runtime\",data = df);\n",
        "# Boxplot grafiğinde her bir nokta outlier veriyi temsil eder.\n",
        "# Veri setinde outlier veri bulunmaktadır. %25 (Q1 Kartil) aralığında oldukça fazla outlier veri bulunmaktadır. \n",
        "# Ayrıca Q3 kartilinde de outlier veriler söz konusu olmaktadır."
      ]
    },
    {
      "cell_type": "code",
      "execution_count": null,
      "metadata": {
        "id": "EcXoTeATZSbN",
        "outputId": "1114962d-3e66-44f8-928b-b17409747907"
      },
      "outputs": [
        {
          "data": {
            "image/png": "[encoded data removed]",
            "text/plain": [
              "<Figure size 1600x480 with 1 Axes>"
            ]
          },
          "metadata": {
            "needs_background": "light"
          },
          "output_type": "display_data"
        }
      ],
      "source": [
        "plt.figure(figsize=(20, 6), dpi=80)\n",
        "sns.boxplot(x = \"IMDB Score\",data = df);\n",
        "# Boxplot grafiğinde her bir nokta outlier veriyi temsil eder.\n",
        "# Özellikle Q1 kartilinde daha çok outlier veri bulunmaktadır."
      ]
    }
  ],
  "metadata": {
    "colab": {
      "collapsed_sections": [],
      "name": "Proje çalışma.ipynb",
      "provenance": []
    },
    "kernelspec": {
      "display_name": "Python 3.9.5 64-bit",
      "language": "python",
      "name": "python3"
    },
    "language_info": {
      "codemirror_mode": {
        "name": "ipython",
        "version": 3
      },
      "file_extension": ".py",
      "mimetype": "text/x-python",
      "name": "python",
      "nbconvert_exporter": "python",
      "pygments_lexer": "ipython3",
      "version": "3.9.5"
    },
    "vscode": {
      "interpreter": {
        "hash": "52634da84371cba311ea128a5ea7cdc41ff074b781779e754b270ff9f8153cee"
      }
    }
  },
  "nbformat": 4,
  "nbformat_minor": 0
}